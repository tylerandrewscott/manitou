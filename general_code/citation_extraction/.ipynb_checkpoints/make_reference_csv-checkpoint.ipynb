{
 "cells": [
  {
   "cell_type": "code",
   "execution_count": 6,
   "metadata": {},
   "outputs": [],
   "source": [
    "#https://grobid.readthedocs.io/en/latest/training/Bibliographical-references/\n",
    "from bs4 import BeautifulSoup\n",
    "import os\n",
    "import pandas as pd\n",
    "import numpy as np\n",
    "import lxml as lxml"
   ]
  },
  {
   "cell_type": "code",
   "execution_count": 7,
   "metadata": {},
   "outputs": [],
   "source": [
    "def read_tei(tei_file):\n",
    "    with open(tei_file, 'r') as tei:\n",
    "        soup = BeautifulSoup(tei, 'lxml')\n",
    "        return  soup.findAll('biblstruct')\n",
    "    raise RuntimeError('Cannot generate a soup from the input')\n",
    "\n",
    "\n",
    "def elem_to_text(elem, default=''):\n",
    "    if elem:\n",
    "        return elem.getText()\n",
    "    else:\n",
    "        return default\n",
    "    \n",
    "def attr_to_text(elem, attr,default=''):\n",
    "    if elem:\n",
    "        return elem.attrs[attr]\n",
    "    else:\n",
    "        return default\n",
    "    \n",
    "from dataclasses import dataclass\n",
    "@dataclass\n",
    "class Person:\n",
    "    firstname: str\n",
    "    middlename: str\n",
    "    surname: str\n",
    "        \n",
    "from os.path import basename, splitext\n",
    "\n",
    "def basename_without_ext(path):\n",
    "    base_name = basename(path)\n",
    "    stem, ext = splitext(base_name)\n",
    "    if stem.endswith('.tei'):\n",
    "        # Return base name without tei file\n",
    "        return stem[0:-4]\n",
    "    else:\n",
    "        return stem"
   ]
  },
  {
   "cell_type": "code",
   "execution_count": 8,
   "metadata": {},
   "outputs": [],
   "source": [
    "#extract reference\n",
    "class TEIFile(object):\n",
    "    def __init__(self, biblstruct):\n",
    "        #self.filename = filename\n",
    "        self.soup = biblstruct\n",
    "        self._text = None\n",
    "        self._title = ''\n",
    "        self._abstract = ''\n",
    "\n",
    "    @property\n",
    "    def doi(self):\n",
    "        idno_elem = self.soup.find('idno')\n",
    "        if not idno_elem:\n",
    "            return ''\n",
    "        else:\n",
    "            return idno_elem.getText()\n",
    "    @property\n",
    "    def date(self):\n",
    "        date_elem = self.soup.find('date',type = 'published')\n",
    "        date_when = attr_to_text(date_elem,'when')\n",
    "        if not date_elem:\n",
    "            return ''\n",
    "        else:\n",
    "            return date_when\n",
    "    @property\n",
    "    def title(self):\n",
    "        if not self._title:\n",
    "            self._title = self.soup.title.getText()\n",
    "        return self._title\n",
    "\n",
    "#    @property\n",
    "#    def abstract(self):\n",
    "#        if not self._abstract:\n",
    "#            abstract = self.soup.abstract.getText(separator=' ', strip=True)\n",
    "#            self._abstract = abstract\n",
    "#        return self._abstract\n",
    "\n",
    "    @property\n",
    "    def authors(self):\n",
    "        authors_in_bibl = self.soup.find_all('author')\n",
    "\n",
    "        result = []\n",
    "        for author in authors_in_bibl:\n",
    "            persname = author.persname\n",
    "            if not persname:\n",
    "                continue\n",
    "            firstname = elem_to_text(persname.find(\"forename\", type=\"first\"))\n",
    "            middlename = elem_to_text(persname.find(\"forename\", type=\"middle\"))\n",
    "            surname = elem_to_text(persname.surname)\n",
    "            person = Person(firstname, middlename, surname)\n",
    "            result.append(person)\n",
    "        return result\n",
    "    \n",
    "    @property\n",
    "    def publication(self):\n",
    "        mongo_elem = self.soup.find('monogr')\n",
    "        mongo_name = mongo_elem.find('title')\n",
    "        if not mongo_name:\n",
    "            return ''\n",
    "        else:\n",
    "            return mongo_name.getText()\n",
    "        \n",
    "    @property\n",
    "    def publisher(self):\n",
    "        pub_elem = self.soup.find('publisher')\n",
    "        if not pub_elem:\n",
    "            return ''\n",
    "        else:\n",
    "            return(pub_elem.getText())\n",
    " \n",
    "    @property\n",
    "    def text(self):\n",
    "        if not self._text:\n",
    "            divs_text = []\n",
    "            for div in self.soup.body.find_all(\"div\"):\n",
    "                # div is neither an appendix nor references, just plain text.\n",
    "                if not div.get(\"type\"):\n",
    "                    div_text = div.get_text(separator=' ', strip=True)\n",
    "                    divs_text.append(div_text)\n",
    "\n",
    "            plain_text = \" \".join(divs_text)\n",
    "            self._text = plain_text\n",
    "        return self._text"
   ]
  },
  {
   "cell_type": "code",
   "execution_count": 9,
   "metadata": {},
   "outputs": [],
   "source": [
    "def ref_to_csv_entry(tei,base_name):\n",
    "    #tei = TEIFile(tei_file)\n",
    "    #tei_file = file_to_tei(fname)\n",
    "    #for tei in tei_file:\n",
    "    return tei.doi, tei.title, tei.date, tei.authors, tei.publication, tei.publisher, base_name\n",
    "# turn reference into csv row\n",
    "def file_to_tei(fname):\n",
    "    tei_file = read_tei(fname)\n",
    "    #print(f\"Handled {tei_file}\")\n",
    "    base_name = basename_without_ext(fname)\n",
    "    tei_nodes = [TEIFile(node) for node in tei_file]\n",
    "    ref = []\n",
    "    for tei in tei_nodes:\n",
    "        ref.append(ref_to_csv_entry(tei,base_name))\n",
    "    result_csv = pd.DataFrame(ref, columns=['DOI', 'Title','Date', 'Authors','Publication','Publisher','File'])\n",
    "    return result_csv"
   ]
  },
  {
   "cell_type": "code",
   "execution_count": 17,
   "metadata": {},
   "outputs": [],
   "source": [
    "import glob\n",
    "from pathlib import Path\n",
    "\n",
    "papers = sorted(Path(\"../../reference_xml\").glob('*.tei.xml'))"
   ]
  },
  {
   "cell_type": "code",
   "execution_count": 20,
   "metadata": {},
   "outputs": [
    {
     "data": {
      "text/plain": [
       "PosixPath('../../reference_xml/16766_27580_FSPLT1_020012.tei.xml')"
      ]
     },
     "execution_count": 20,
     "metadata": {},
     "output_type": "execute_result"
    }
   ],
   "source": [
    "import multiprocessing\n",
    "print(f\"My machine has {multiprocessing.cpu_count()} cores.\")\n"
   ]
  },
  {
   "cell_type": "code",
   "execution_count": 14,
   "metadata": {},
   "outputs": [
    {
     "name": "stdout",
     "output_type": "stream",
     "text": [
      "My machine has 4 cores.\n"
     ]
    }
   ],
   "source": [
    "\n",
    "from multiprocessing.pool import Pool\n",
    "pool = Pool()\n",
    "#xmf_full = [floc + x for x in xmf]"
   ]
  },
  {
   "cell_type": "code",
   "execution_count": 15,
   "metadata": {},
   "outputs": [],
   "source": [
    "csv_entries = pool.map(file_to_tei,papers)"
   ]
  },
  {
   "cell_type": "code",
   "execution_count": 16,
   "metadata": {},
   "outputs": [],
   "source": [
    "ref_df = pd.concat(csv_entries)\n",
    "ref_df.to_csv('reference_set_df_10-14-19.csv')"
   ]
  }
 ],
 "metadata": {
  "kernelspec": {
   "display_name": "Python 3",
   "language": "python",
   "name": "python3"
  },
  "language_info": {
   "codemirror_mode": {
    "name": "ipython",
    "version": 3
   },
   "file_extension": ".py",
   "mimetype": "text/x-python",
   "name": "python",
   "nbconvert_exporter": "python",
   "pygments_lexer": "ipython3",
   "version": "3.7.4"
  }
 },
 "nbformat": 4,
 "nbformat_minor": 2
}
